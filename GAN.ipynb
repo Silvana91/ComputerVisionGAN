{
  "nbformat": 4,
  "nbformat_minor": 0,
  "metadata": {
    "colab": {
      "provenance": []
    },
    "kernelspec": {
      "name": "python3",
      "display_name": "Python 3"
    },
    "language_info": {
      "name": "python"
    }
  },
  "cells": [
    {
      "cell_type": "code",
      "execution_count": 28,
      "metadata": {
        "id": "EIlPJQsuuRCT"
      },
      "outputs": [],
      "source": [
        "import torch\n",
        "import torch.nn as nn\n",
        "import torch.optim as optim\n",
        "from torchvision import datasets, transforms\n",
        "from torchvision.utils import save_image\n",
        "\n",
        "latent_size = 64\n",
        "hidden_size = 256\n",
        "image_size = 784\n",
        "num_epochs = 50\n",
        "batch_size = 100\n",
        "learning_rate = 0.0002\n"
      ]
    },
    {
      "cell_type": "code",
      "source": [
        "\n",
        "transform = transforms.Compose([\n",
        "    transforms.ToTensor(),\n",
        "    transforms.Normalize(mean=(0.5,), std=(0.5,))\n",
        "])\n"
      ],
      "metadata": {
        "id": "dmu5Ex45uhV2"
      },
      "execution_count": 20,
      "outputs": []
    },
    {
      "cell_type": "code",
      "source": [
        "\n",
        "mnist = datasets.MNIST(root='./data', train=True, transform=transform, download=True)\n",
        "data_loader = torch.utils.data.DataLoader(dataset=mnist, batch_size=batch_size, shuffle=True)"
      ],
      "metadata": {
        "id": "iOrqiuInuhYv"
      },
      "execution_count": 21,
      "outputs": []
    },
    {
      "cell_type": "code",
      "source": [
        "class Generator(nn.Module):\n",
        "    def __init__(self):\n",
        "        super(Generator, self).__init__()\n",
        "        self.fc1 = nn.Linear(latent_size, hidden_size)\n",
        "        self.fc2 = nn.Linear(hidden_size, hidden_size)\n",
        "        self.fc3 = nn.Linear(hidden_size, image_size)\n",
        "        self.relu = nn.ReLU()\n",
        "        self.tanh = nn.Tanh()\n",
        "\n",
        "    def forward(self, x):\n",
        "        x = self.relu(self.fc1(x))\n",
        "        x = self.relu(self.fc2(x))\n",
        "        x = self.tanh(self.fc3(x))\n",
        "        return x"
      ],
      "metadata": {
        "id": "QlQvovcUuhbW"
      },
      "execution_count": 22,
      "outputs": []
    },
    {
      "cell_type": "code",
      "source": [
        "class Discriminator(nn.Module):\n",
        "    def __init__(self):\n",
        "        super(Discriminator, self).__init__()\n",
        "        self.fc1 = nn.Linear(image_size, hidden_size)\n",
        "        self.fc2 = nn.Linear(hidden_size, hidden_size)\n",
        "        self.fc3 = nn.Linear(hidden_size, 1)\n",
        "        self.relu = nn.ReLU()\n",
        "        self.sigmoid = nn.Sigmoid()\n",
        "\n",
        "    def forward(self, x):\n",
        "        x = self.relu(self.fc1(x))\n",
        "        x = self.relu(self.fc2(x))\n",
        "        x = self.sigmoid(self.fc3(x))\n",
        "        return x\n",
        "\n"
      ],
      "metadata": {
        "id": "jWqBKx-1unpr"
      },
      "execution_count": 23,
      "outputs": []
    },
    {
      "cell_type": "code",
      "source": [
        "\n",
        "generator = Generator()\n",
        "discriminator = Discriminator()\n"
      ],
      "metadata": {
        "id": "gT9PX5PLuntG"
      },
      "execution_count": 24,
      "outputs": []
    },
    {
      "cell_type": "code",
      "source": [
        "criterion = nn.BCELoss()\n",
        "d_optimizer = optim.Adam(discriminator.parameters(), lr=learning_rate)\n",
        "g_optimizer = optim.Adam(generator.parameters(), lr=learning_rate)"
      ],
      "metadata": {
        "id": "Mio4Kho-unwh"
      },
      "execution_count": 25,
      "outputs": []
    },
    {
      "cell_type": "code",
      "source": [
        "for epoch in range(num_epochs):\n",
        "    for i, (images, _) in enumerate(data_loader):\n",
        "        real_labels = torch.ones(batch_size, 1)\n",
        "        fake_labels = torch.zeros(batch_size, 1)\n",
        "\n",
        "        images = images.reshape(batch_size, -1)\n",
        "\n",
        "        outputs = discriminator(images)\n",
        "        d_loss_real = criterion(outputs, real_labels)\n",
        "        real_score = outputs\n",
        "\n",
        "        z = torch.randn(batch_size, latent_size)\n",
        "        fake_images = generator(z)\n",
        "        outputs = discriminator(fake_images)\n",
        "        d_loss_fake = criterion(outputs, fake_labels)\n",
        "        fake_score = outputs\n",
        "\n",
        "        d_loss = d_loss_real + d_loss_fake\n",
        "        d_optimizer.zero_grad()\n",
        "        d_loss.backward()\n",
        "        d_optimizer.step()\n",
        "\n",
        "        z = torch.randn(batch_size, latent_size)\n",
        "        fake_images = generator(z)\n",
        "        outputs = discriminator(fake_images)\n",
        "\n",
        "        g_loss = criterion(outputs, real_labels)\n",
        "\n",
        "        g_optimizer.zero_grad()\n",
        "        g_loss.backward()\n",
        "        g_optimizer.step()\n",
        "\n",
        "    print(f'Epoch [{epoch}/{num_epochs}], d_loss: {d_loss.item():.4f}, g_loss: {g_loss.item():.4f}, ')\n",
        "\n",
        "    if (epoch + 1) % 10 == 0:\n",
        "        save_image(fake_images.reshape(fake_images.size(0), 1, 28, 28), f'fake_images_{epoch + 1}.png')\n",
        "\n"
      ],
      "metadata": {
        "id": "fK8cNuXauheN",
        "colab": {
          "base_uri": "https://localhost:8080/"
        },
        "outputId": "0b71921d-8488-4ce8-dbb4-445434496c69"
      },
      "execution_count": 29,
      "outputs": [
        {
          "output_type": "stream",
          "name": "stdout",
          "text": [
            "Epoch [0/50], d_loss: 0.1387, g_loss: 3.5160, \n",
            "Epoch [1/50], d_loss: 0.2875, g_loss: 4.0993, \n",
            "Epoch [2/50], d_loss: 0.4883, g_loss: 2.4538, \n",
            "Epoch [3/50], d_loss: 0.6047, g_loss: 2.4206, \n",
            "Epoch [4/50], d_loss: 0.8132, g_loss: 2.7440, \n",
            "Epoch [5/50], d_loss: 0.3209, g_loss: 3.7389, \n",
            "Epoch [6/50], d_loss: 0.5135, g_loss: 2.8085, \n",
            "Epoch [7/50], d_loss: 0.4841, g_loss: 2.6978, \n",
            "Epoch [8/50], d_loss: 0.1945, g_loss: 3.2825, \n",
            "Epoch [9/50], d_loss: 0.3565, g_loss: 2.0777, \n",
            "Epoch [10/50], d_loss: 0.3243, g_loss: 3.5435, \n",
            "Epoch [11/50], d_loss: 0.3373, g_loss: 4.6024, \n",
            "Epoch [12/50], d_loss: 0.3366, g_loss: 4.1664, \n",
            "Epoch [13/50], d_loss: 0.4799, g_loss: 4.3709, \n",
            "Epoch [14/50], d_loss: 0.4109, g_loss: 3.3456, \n",
            "Epoch [15/50], d_loss: 0.2784, g_loss: 3.8478, \n",
            "Epoch [16/50], d_loss: 0.2923, g_loss: 3.8609, \n",
            "Epoch [17/50], d_loss: 0.5372, g_loss: 2.7150, \n",
            "Epoch [18/50], d_loss: 0.6222, g_loss: 4.2521, \n",
            "Epoch [19/50], d_loss: 0.2586, g_loss: 3.5641, \n",
            "Epoch [20/50], d_loss: 0.1828, g_loss: 4.1899, \n",
            "Epoch [21/50], d_loss: 0.4612, g_loss: 3.2584, \n",
            "Epoch [22/50], d_loss: 0.3361, g_loss: 3.4299, \n",
            "Epoch [23/50], d_loss: 0.3658, g_loss: 2.3248, \n",
            "Epoch [24/50], d_loss: 0.4547, g_loss: 2.4843, \n",
            "Epoch [25/50], d_loss: 0.4611, g_loss: 3.5394, \n",
            "Epoch [26/50], d_loss: 0.4357, g_loss: 2.9345, \n",
            "Epoch [27/50], d_loss: 0.3927, g_loss: 2.8590, \n",
            "Epoch [28/50], d_loss: 0.4895, g_loss: 3.2827, \n",
            "Epoch [29/50], d_loss: 0.5998, g_loss: 1.8751, \n",
            "Epoch [30/50], d_loss: 0.9297, g_loss: 3.2114, \n",
            "Epoch [31/50], d_loss: 0.5196, g_loss: 4.0661, \n",
            "Epoch [32/50], d_loss: 0.6852, g_loss: 3.3074, \n",
            "Epoch [33/50], d_loss: 0.4596, g_loss: 2.2417, \n",
            "Epoch [34/50], d_loss: 0.4893, g_loss: 2.8246, \n",
            "Epoch [35/50], d_loss: 0.6328, g_loss: 2.1974, \n",
            "Epoch [36/50], d_loss: 0.5820, g_loss: 2.8065, \n",
            "Epoch [37/50], d_loss: 0.5462, g_loss: 2.9570, \n",
            "Epoch [38/50], d_loss: 0.5641, g_loss: 2.2115, \n",
            "Epoch [39/50], d_loss: 0.7077, g_loss: 1.8938, \n",
            "Epoch [40/50], d_loss: 0.8534, g_loss: 2.2960, \n",
            "Epoch [41/50], d_loss: 0.5379, g_loss: 2.8698, \n",
            "Epoch [42/50], d_loss: 0.7024, g_loss: 2.2645, \n",
            "Epoch [43/50], d_loss: 0.6999, g_loss: 1.7407, \n",
            "Epoch [44/50], d_loss: 0.7093, g_loss: 2.1256, \n",
            "Epoch [45/50], d_loss: 0.7056, g_loss: 2.1675, \n",
            "Epoch [46/50], d_loss: 0.8172, g_loss: 2.3670, \n",
            "Epoch [47/50], d_loss: 0.7222, g_loss: 2.2330, \n",
            "Epoch [48/50], d_loss: 0.7810, g_loss: 2.3166, \n",
            "Epoch [49/50], d_loss: 0.6385, g_loss: 2.6006, \n"
          ]
        }
      ]
    },
    {
      "cell_type": "code",
      "source": [],
      "metadata": {
        "id": "u3UEMRNjuyBg"
      },
      "execution_count": 29,
      "outputs": []
    }
  ]
}